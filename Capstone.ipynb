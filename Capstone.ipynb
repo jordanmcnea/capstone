{
 "cells": [
  {
   "cell_type": "markdown",
   "metadata": {},
   "source": [
    "# To-do for first day of class\n",
    "\n",
    "- Review Reddit code from Text Mining, implement it here. \n",
    "- Add more candidates, think about what fields we need\n",
    "- Take all Twitter followers and their descriptions from candidates (this will take a fucking LONG time)\n",
    "- Pull Twitter followers that don't follow the other candidates, or have candidate hashtags in descriptions\n",
    "- take random sample. Think about random sample. e.g. Can we pull most active Tweeters? By Location?\n",
    "- Look into Facebook API, try to implement it for candidates pages\n",
    "- Make code only have to run once (Ideally every Sunday for the last week's data)\n",
    "- Put data in GBQ\n",
    "- Connect Tableau to GBQ"
   ]
  },
  {
   "cell_type": "code",
   "execution_count": null,
   "metadata": {},
   "outputs": [],
   "source": []
  }
 ],
 "metadata": {
  "kernelspec": {
   "display_name": "Python 3",
   "language": "python",
   "name": "python3"
  },
  "language_info": {
   "codemirror_mode": {
    "name": "ipython",
    "version": 3
   },
   "file_extension": ".py",
   "mimetype": "text/x-python",
   "name": "python",
   "nbconvert_exporter": "python",
   "pygments_lexer": "ipython3",
   "version": "3.7.3"
  }
 },
 "nbformat": 4,
 "nbformat_minor": 2
}
